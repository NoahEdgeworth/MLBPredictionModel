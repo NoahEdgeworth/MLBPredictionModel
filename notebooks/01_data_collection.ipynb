{
 "cells": [
  {
   "cell_type": "code",
   "execution_count": 3,
   "metadata": {},
   "outputs": [],
   "source": [
    "import pandas as pd\n",
    "from pybaseball import batting_stats, statcast_batter, playerid_lookup\n",
    "import os\n",
    "from datetime import datetime"
   ]
  },
  {
   "cell_type": "code",
   "execution_count": 4,
   "metadata": {},
   "outputs": [
    {
     "name": "stdout",
     "output_type": "stream",
     "text": [
      "Starting data collection at 2025-01-01 14:00:33.306698\n",
      "Collecting 2019 batting stats...\n",
      "Successfully saved 2019 data: 135 records\n",
      "Collecting 2020 batting stats...\n",
      "Successfully saved 2020 data: 142 records\n",
      "Collecting 2021 batting stats...\n",
      "Successfully saved 2021 data: 132 records\n",
      "Collecting 2022 batting stats...\n",
      "Successfully saved 2022 data: 130 records\n",
      "Collecting 2023 batting stats...\n",
      "Successfully saved 2023 data: 134 records\n"
     ]
    }
   ],
   "source": [
    "# Set up logging of what we're collecting\n",
    "print(f\"Starting data collection at {datetime.now()}\")\n",
    "\n",
    "# Collect batting stats for recent seasons\n",
    "years = range(2019, 2024)\n",
    "batting_stats_list = []\n",
    "\n",
    "for year in years:\n",
    "    print(f\"Collecting {year} batting stats...\")\n",
    "    try:\n",
    "        yearly_stats = batting_stats(year)\n",
    "        batting_stats_list.append(yearly_stats)\n",
    "        \n",
    "        # Save individual year data\n",
    "        yearly_stats.to_csv(f'../Data/raw/batting_stats_{year}.csv')\n",
    "        print(f\"Successfully saved {year} data: {len(yearly_stats)} records\")\n",
    "        \n",
    "    except Exception as e:\n",
    "        print(f\"Error collecting {year} data: {e}\")\n",
    "\n"
   ]
  },
  {
   "cell_type": "code",
   "execution_count": 5,
   "metadata": {},
   "outputs": [
    {
     "name": "stdout",
     "output_type": "stream",
     "text": [
      "Total records collected: 673\n"
     ]
    }
   ],
   "source": [
    "# Combine all years\n",
    "batting_combined = pd.concat(batting_stats_list)\n",
    "batting_combined.to_csv('../Data/raw/batting_stats_combined.csv')\n",
    "print(f\"Total records collected: {len(batting_combined)}\")"
   ]
  }
 ],
 "metadata": {
  "kernelspec": {
   "display_name": "venv",
   "language": "python",
   "name": "python3"
  },
  "language_info": {
   "codemirror_mode": {
    "name": "ipython",
    "version": 3
   },
   "file_extension": ".py",
   "mimetype": "text/x-python",
   "name": "python",
   "nbconvert_exporter": "python",
   "pygments_lexer": "ipython3",
   "version": "3.11.5"
  }
 },
 "nbformat": 4,
 "nbformat_minor": 2
}
