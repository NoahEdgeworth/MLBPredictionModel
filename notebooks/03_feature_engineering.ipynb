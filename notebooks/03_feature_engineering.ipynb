{
 "cells": [
  {
   "cell_type": "code",
   "execution_count": 2,
   "metadata": {},
   "outputs": [],
   "source": [
    "import pandas as pd\n",
    "import numpy as np"
   ]
  },
  {
   "cell_type": "code",
   "execution_count": 12,
   "metadata": {},
   "outputs": [
    {
     "name": "stdout",
     "output_type": "stream",
     "text": [
      "Features created:\n",
      "['IDfg', 'Season', 'Name', 'Team', 'Age', 'G', 'AB', 'PA', 'H', '1B', '2B', '3B', 'HR', 'R', 'RBI', 'BB', 'IBB', 'SO', 'HBP', 'SF', 'SH', 'GDP', 'SB', 'CS', 'AVG', 'GB', 'FB', 'LD', 'IFFB', 'Pitches', 'Balls', 'Strikes', 'IFH', 'BU', 'BUH', 'BB%', 'K%', 'BB/K', 'OBP', 'SLG', 'OPS', 'ISO', 'BABIP', 'GB/FB', 'LD%', 'GB%', 'FB%', 'IFFB%', 'HR/FB', 'IFH%', 'BUH%', 'wOBA', 'wRAA', 'wRC', 'Bat', 'Fld', 'Rep', 'Pos', 'RAR', 'WAR', 'Dol', 'Spd', 'wRC+', 'WPA', '-WPA', '+WPA', 'RE24', 'REW', 'pLI', 'phLI', 'PH', 'WPA/LI', 'Clutch', 'FB% (Pitch)', 'FBv', 'SL%', 'SLv', 'CT%', 'CTv', 'CB%', 'CBv', 'CH%', 'CHv', 'SF%', 'SFv', 'KN%', 'KNv', 'XX%', 'PO%', 'wFB', 'wSL', 'wCT', 'wCB', 'wCH', 'wSF', 'wKN', 'wFB/C', 'wSL/C', 'wCT/C', 'wCB/C', 'wCH/C', 'wSF/C', 'wKN/C', 'O-Swing%', 'Z-Swing%', 'Swing%', 'O-Contact%', 'Z-Contact%', 'Contact%', 'Zone%', 'F-Strike%', 'SwStr%', 'BsR', 'FA% (sc)', 'FT% (sc)', 'FC% (sc)', 'FS% (sc)', 'FO% (sc)', 'SI% (sc)', 'SL% (sc)', 'CU% (sc)', 'KC% (sc)', 'EP% (sc)', 'CH% (sc)', 'SC% (sc)', 'KN% (sc)', 'UN% (sc)', 'vFA (sc)', 'vFT (sc)', 'vFC (sc)', 'vFS (sc)', 'vFO (sc)', 'vSI (sc)', 'vSL (sc)', 'vCU (sc)', 'vKC (sc)', 'vEP (sc)', 'vCH (sc)', 'vSC (sc)', 'vKN (sc)', 'FA-X (sc)', 'FT-X (sc)', 'FC-X (sc)', 'FS-X (sc)', 'FO-X (sc)', 'SI-X (sc)', 'SL-X (sc)', 'CU-X (sc)', 'KC-X (sc)', 'EP-X (sc)', 'CH-X (sc)', 'SC-X (sc)', 'KN-X (sc)', 'FA-Z (sc)', 'FT-Z (sc)', 'FC-Z (sc)', 'FS-Z (sc)', 'FO-Z (sc)', 'SI-Z (sc)', 'SL-Z (sc)', 'CU-Z (sc)', 'KC-Z (sc)', 'EP-Z (sc)', 'CH-Z (sc)', 'SC-Z (sc)', 'KN-Z (sc)', 'wFA (sc)', 'wFT (sc)', 'wFC (sc)', 'wFS (sc)', 'wFO (sc)', 'wSI (sc)', 'wSL (sc)', 'wCU (sc)', 'wKC (sc)', 'wEP (sc)', 'wCH (sc)', 'wSC (sc)', 'wKN (sc)', 'wFA/C (sc)', 'wFT/C (sc)', 'wFC/C (sc)', 'wFS/C (sc)', 'wFO/C (sc)', 'wSI/C (sc)', 'wSL/C (sc)', 'wCU/C (sc)', 'wKC/C (sc)', 'wEP/C (sc)', 'wCH/C (sc)', 'wSC/C (sc)', 'wKN/C (sc)', 'O-Swing% (sc)', 'Z-Swing% (sc)', 'Swing% (sc)', 'O-Contact% (sc)', 'Z-Contact% (sc)', 'Contact% (sc)', 'Zone% (sc)', 'Pace', 'Def', 'wSB', 'UBR', 'Age Rng', 'Off', 'Lg', 'wGDP', 'Pull%', 'Cent%', 'Oppo%', 'Soft%', 'Med%', 'Hard%', 'TTO%', 'CH% (pi)', 'CS% (pi)', 'CU% (pi)', 'FA% (pi)', 'FC% (pi)', 'FS% (pi)', 'KN% (pi)', 'SB% (pi)', 'SI% (pi)', 'SL% (pi)', 'XX% (pi)', 'vCH (pi)', 'vCS (pi)', 'vCU (pi)', 'vFA (pi)', 'vFC (pi)', 'vFS (pi)', 'vKN (pi)', 'vSB (pi)', 'vSI (pi)', 'vSL (pi)', 'vXX (pi)', 'CH-X (pi)', 'CS-X (pi)', 'CU-X (pi)', 'FA-X (pi)', 'FC-X (pi)', 'FS-X (pi)', 'KN-X (pi)', 'SB-X (pi)', 'SI-X (pi)', 'SL-X (pi)', 'XX-X (pi)', 'CH-Z (pi)', 'CS-Z (pi)', 'CU-Z (pi)', 'FA-Z (pi)', 'FC-Z (pi)', 'FS-Z (pi)', 'KN-Z (pi)', 'SB-Z (pi)', 'SI-Z (pi)', 'SL-Z (pi)', 'XX-Z (pi)', 'wCH (pi)', 'wCS (pi)', 'wCU (pi)', 'wFA (pi)', 'wFC (pi)', 'wFS (pi)', 'wKN (pi)', 'wSB (pi)', 'wSI (pi)', 'wSL (pi)', 'wXX (pi)', 'wCH/C (pi)', 'wCS/C (pi)', 'wCU/C (pi)', 'wFA/C (pi)', 'wFC/C (pi)', 'wFS/C (pi)', 'wKN/C (pi)', 'wSB/C (pi)', 'wSI/C (pi)', 'wSL/C (pi)', 'wXX/C (pi)', 'O-Swing% (pi)', 'Z-Swing% (pi)', 'Swing% (pi)', 'O-Contact% (pi)', 'Z-Contact% (pi)', 'Contact% (pi)', 'Zone% (pi)', 'Pace (pi)', 'FRM', 'AVG+', 'BB%+', 'K%+', 'OBP+', 'SLG+', 'ISO+', 'BABIP+', 'LD+%', 'GB%+', 'FB%+', 'HR/FB%+', 'Pull%+', 'Cent%+', 'Oppo%+', 'Soft%+', 'Med%+', 'Hard%+', 'EV', 'LA', 'Barrels', 'Barrel%', 'maxEV', 'HardHit', 'HardHit%', 'Events', 'CStr%', 'CSW%', 'xBA', 'xSLG', 'xwOBA', 'L-WAR', 'player_season_id', 'prev_AVG', 'prev2_AVG', 'prev_HR', 'prev2_HR', 'prev_RBI', 'prev2_RBI', 'prev_OBP', 'prev2_OBP', 'prev_PA', 'prev2_PA', 'AVG_change', 'HR_change', 'RBI_change', 'OBP_change', 'PA_change', 'AVG_career_avg', 'HR_career_avg', 'RBI_career_avg', 'OBP_career_avg', 'PA_career_avg', 'next_AVG', 'next_HR', 'next_RBI', 'next_OBP']\n",
      "\n",
      "Dataset shape: (390, 345)\n",
      "\n",
      "Sample of features for one player:\n",
      "     IDfg  Season          Name Team  Age   G   AB   PA   H  1B  ...  \\\n",
      "201  9256    2020  A.J. Pollock  LAD   32  55  196  210  54  29  ...   \n",
      "\n",
      "     PA_change  AVG_career_avg  HR_career_avg  RBI_career_avg  OBP_career_avg  \\\n",
      "201        NaN           0.276           16.0            34.0           0.314   \n",
      "\n",
      "     PA_career_avg  next_AVG  next_HR  next_RBI  next_OBP  \n",
      "201          210.0     0.245     14.0      56.0     0.292  \n",
      "\n",
      "[1 rows x 345 columns]\n"
     ]
    }
   ],
   "source": [
    "import pandas as pd\n",
    "import numpy as np\n",
    "\n",
    "# Load the cleaned data\n",
    "df = pd.read_csv('../Data/processed/clean_batting_stats.csv')\n",
    "\n",
    "# Create previous season stats for each player\n",
    "def create_previous_season_features(df):\n",
    "    # Sort by player and season\n",
    "    df = df.sort_values(['Name', 'Season'])\n",
    "    \n",
    "    # Create lag features (previous season's stats)\n",
    "    lag_stats = ['AVG', 'HR', 'RBI', 'OBP', 'PA']\n",
    "    for stat in lag_stats:\n",
    "        df[f'prev_{stat}'] = df.groupby('Name')[stat].shift(1)\n",
    "        df[f'prev2_{stat}'] = df.groupby('Name')[stat].shift(2)  # 2 years ago\n",
    "        \n",
    "    # Calculate year-over-year changes\n",
    "    for stat in lag_stats:\n",
    "        df[f'{stat}_change'] = df[stat] - df[f'prev_{stat}']\n",
    "        \n",
    "    # Calculate career averages up to that point\n",
    "    for stat in lag_stats:\n",
    "        df[f'{stat}_career_avg'] = df.groupby('Name')[stat].expanding().mean().reset_index(0, drop=True)\n",
    "    \n",
    "    return df\n",
    "\n",
    "# Create features\n",
    "df_features = create_previous_season_features(df)\n",
    "\n",
    "# Create target variables (next season's stats)\n",
    "target_stats = ['AVG', 'HR', 'RBI', 'OBP']\n",
    "for stat in target_stats:\n",
    "    df_features[f'next_{stat}'] = df_features.groupby('Name')[stat].shift(-1)\n",
    "\n",
    "# Remove rows where we don't have next season's data (2023) or previous season's data (2019)\n",
    "df_features = df_features.dropna(subset=[f'next_{stat}' for stat in target_stats])\n",
    "# df_features = df_features.dropna(subset=[f'prev_{stat}' for stat in lag_stats])\n",
    "\n",
    "# Show what features we created\n",
    "print(\"Features created:\")\n",
    "print(df_features.columns.tolist())\n",
    "\n",
    "# Save features dataset\n",
    "df_features.to_csv('../Data/processed/features_and_targets.csv', index=False)\n",
    "\n",
    "# Show some basic stats about our features\n",
    "print(\"\\nDataset shape:\", df_features.shape)\n",
    "print(\"\\nSample of features for one player:\")\n",
    "print(df_features[df_features['Name'] == df_features['Name'].iloc[0]].head())"
   ]
  },
  {
   "cell_type": "code",
   "execution_count": 13,
   "metadata": {},
   "outputs": [
    {
     "name": "stdout",
     "output_type": "stream",
     "text": [
      "Stat-related columns: ['HR', 'RBI', 'AVG', 'OBP', 'HR/FB', 'AVG+', 'OBP+', 'HR/FB%+', 'prev_AVG', 'prev2_AVG', 'prev_HR', 'prev2_HR', 'prev_RBI', 'prev2_RBI', 'prev_OBP', 'prev2_OBP', 'AVG_change', 'HR_change', 'RBI_change', 'OBP_change', 'AVG_career_avg', 'HR_career_avg', 'RBI_career_avg', 'OBP_career_avg', 'next_AVG', 'next_HR', 'next_RBI', 'next_OBP']\n",
      "\n",
      "Target variable statistics:\n",
      "         next_AVG     next_HR    next_RBI    next_OBP\n",
      "count  390.000000  390.000000  390.000000  390.000000\n",
      "mean     0.261777   19.174359   65.471795    0.337018\n",
      "std      0.030898   10.646233   27.068664    0.034493\n",
      "min      0.184000    0.000000   12.000000    0.238000\n",
      "25%      0.242000   11.000000   46.000000    0.315000\n",
      "50%      0.262000   17.000000   66.500000    0.333000\n",
      "75%      0.278000   26.750000   86.000000    0.355750\n",
      "max      0.364000   62.000000  139.000000    0.490000\n"
     ]
    }
   ],
   "source": [
    "# See what features we have for our target stats\n",
    "columns = [col for col in df_features.columns if any(stat in col for stat in ['AVG', 'HR', 'RBI', 'OBP'])]\n",
    "print(\"Stat-related columns:\", columns)\n",
    "\n",
    "# Quick look at the distribution of our target variables\n",
    "print(\"\\nTarget variable statistics:\")\n",
    "print(df_features[['next_AVG', 'next_HR', 'next_RBI', 'next_OBP']].describe())"
   ]
  }
 ],
 "metadata": {
  "kernelspec": {
   "display_name": "mlb_venv",
   "language": "python",
   "name": "python3"
  },
  "language_info": {
   "codemirror_mode": {
    "name": "ipython",
    "version": 3
   },
   "file_extension": ".py",
   "mimetype": "text/x-python",
   "name": "python",
   "nbconvert_exporter": "python",
   "pygments_lexer": "ipython3",
   "version": "3.11.5"
  }
 },
 "nbformat": 4,
 "nbformat_minor": 2
}
